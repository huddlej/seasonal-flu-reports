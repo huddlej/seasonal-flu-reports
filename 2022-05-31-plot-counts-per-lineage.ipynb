{
 "cells": [
  {
   "cell_type": "markdown",
   "id": "0c5449d8-365a-4292-a772-6c1a79f5e43d",
   "metadata": {},
   "source": [
    "# Plot counts per lineage through time"
   ]
  },
  {
   "cell_type": "markdown",
   "id": "4e0df709-e102-488f-8829-fe71a8433ae6",
   "metadata": {},
   "source": [
    "## Imports"
   ]
  },
  {
   "cell_type": "code",
   "execution_count": null,
   "id": "59e89f6e-bfd1-4aaf-987b-00fc08133f25",
   "metadata": {},
   "outputs": [],
   "source": [
    "import altair as alt\n",
    "import pandas as pd"
   ]
  },
  {
   "cell_type": "markdown",
   "id": "06cbed4f-f94d-4d33-9b83-7354626d791f",
   "metadata": {},
   "source": [
    "## Configuration"
   ]
  },
  {
   "cell_type": "code",
   "execution_count": null,
   "id": "12af8298-461d-4732-83da-6843ef29cae0",
   "metadata": {},
   "outputs": [],
   "source": [
    "min_date = \"2018-01-01\""
   ]
  },
  {
   "cell_type": "markdown",
   "id": "43c90ae7-2cac-44d1-9f8f-da40a0db7f20",
   "metadata": {},
   "source": [
    "## Load metadata"
   ]
  },
  {
   "cell_type": "code",
   "execution_count": null,
   "id": "3364a1b7-1a62-4ba9-84eb-c2a9d1089bd7",
   "metadata": {},
   "outputs": [],
   "source": [
    "def load_lineage_dates(metadata_file, lineage):\n",
    "    df = pd.read_csv(metadata_file, sep=\"\\t\")\n",
    "    df[\"lineage\"] = lineage\n",
    "    dates = df.loc[~df[\"date\"].str.contains(\"X\"), [\"lineage\", \"date\"]]\n",
    "    \n",
    "    return dates"
   ]
  },
  {
   "cell_type": "code",
   "execution_count": null,
   "id": "ae5a76b3-dcef-4e02-8f23-7d90ce73b4fc",
   "metadata": {},
   "outputs": [],
   "source": [
    "h3n2_dates = load_lineage_dates(\"2022-05-31/metadata/metadata_h3n2_ha.tsv\", \"H3N2\")"
   ]
  },
  {
   "cell_type": "code",
   "execution_count": null,
   "id": "0cf87a0b-a0ac-41bb-b9ab-ce75a2bc112f",
   "metadata": {},
   "outputs": [],
   "source": [
    "h1n1pdm_dates = load_lineage_dates(\"2022-05-31/metadata/metadata_h1n1pdm_ha.tsv\", \"H1N1pdm\")"
   ]
  },
  {
   "cell_type": "code",
   "execution_count": null,
   "id": "ec15fbd0-3c0f-4a52-b5d1-46ef8ecfd3a3",
   "metadata": {},
   "outputs": [],
   "source": [
    "vic_dates = load_lineage_dates(\"2022-05-31/metadata/metadata_vic_ha.tsv\", \"Vic\")"
   ]
  },
  {
   "cell_type": "code",
   "execution_count": null,
   "id": "299f1a55-a4d3-4f6a-8bcc-cc485d13202c",
   "metadata": {},
   "outputs": [],
   "source": [
    "yam_dates = load_lineage_dates(\"2022-05-31/metadata/metadata_yam_ha.tsv\", \"Yam\")"
   ]
  },
  {
   "cell_type": "code",
   "execution_count": null,
   "id": "9e9f2ca1-7d98-4ec6-b7de-34c56069c7e4",
   "metadata": {},
   "outputs": [],
   "source": [
    "dates = pd.concat([h3n2_dates, h1n1pdm_dates, vic_dates, yam_dates])"
   ]
  },
  {
   "cell_type": "code",
   "execution_count": null,
   "id": "e654044a-f779-406b-99b3-970fce0d0c62",
   "metadata": {},
   "outputs": [],
   "source": [
    "dates.head()"
   ]
  },
  {
   "cell_type": "code",
   "execution_count": null,
   "id": "39ea56e5-31c0-4371-bdc9-7d9eed50b4ad",
   "metadata": {},
   "outputs": [],
   "source": [
    "dates.shape"
   ]
  },
  {
   "cell_type": "code",
   "execution_count": null,
   "id": "ce5970b9-40cd-4b2f-97dd-12af3106c29f",
   "metadata": {},
   "outputs": [],
   "source": [
    "recent_dates = dates[dates[\"date\"] > min_date].copy()"
   ]
  },
  {
   "cell_type": "code",
   "execution_count": null,
   "id": "69820a11-2690-4845-9717-b6109f5e2c06",
   "metadata": {},
   "outputs": [],
   "source": [
    "recent_dates[\"date\"] = pd.to_datetime(recent_dates[\"date\"])"
   ]
  },
  {
   "cell_type": "code",
   "execution_count": null,
   "id": "36ed7571-1b95-4991-9d79-6faa8c4cb0d2",
   "metadata": {},
   "outputs": [],
   "source": [
    "recent_dates.shape"
   ]
  },
  {
   "cell_type": "code",
   "execution_count": null,
   "id": "9ae4b9ab-6905-4321-b32e-d7240c88d3fa",
   "metadata": {},
   "outputs": [],
   "source": [
    "binned_counts = recent_dates.set_index(\"date\").groupby(\"lineage\").resample(\"1MS\").count().rename(columns={\"lineage\": \"samples\"}).reset_index()"
   ]
  },
  {
   "cell_type": "code",
   "execution_count": null,
   "id": "a8753ca3-172c-4a45-9495-5b9d06e835c8",
   "metadata": {},
   "outputs": [],
   "source": [
    "binned_counts"
   ]
  },
  {
   "cell_type": "code",
   "execution_count": null,
   "id": "038b9332-fcf1-49ac-9342-4e9503fe8ec2",
   "metadata": {},
   "outputs": [],
   "source": [
    "alt.Chart(binned_counts).mark_line(point=True).encode(\n",
    "    x=alt.X(\"date:T\", title=\"Date\"),\n",
    "    y=alt.Y(\"samples:Q\", title=\"Number of samples\"),\n",
    "    color=alt.Color(\"lineage:N\", sort=[\"H3N2\", \"H1N1pdm\", \"Vic\", \"Yam\"], title=\"Lineage\"),\n",
    "    tooltip=[\"lineage:N\", \"date:T\", \"samples:Q\"],\n",
    ").configure_axis(\n",
    "    labelFontSize=14,\n",
    "    titleFontSize=14,\n",
    ").configure_legend(\n",
    "    labelFontSize=14,\n",
    "    titleFontSize=14,\n",
    ").properties(\n",
    "    width=900,\n",
    "    height=400,\n",
    ")"
   ]
  },
  {
   "cell_type": "code",
   "execution_count": null,
   "id": "9c04dcbc-2efa-4a24-a073-dc1614bbb5ff",
   "metadata": {},
   "outputs": [],
   "source": []
  }
 ],
 "metadata": {
  "kernelspec": {
   "display_name": "Python 3 (ipykernel)",
   "language": "python",
   "name": "python3"
  },
  "language_info": {
   "codemirror_mode": {
    "name": "ipython",
    "version": 3
   },
   "file_extension": ".py",
   "mimetype": "text/x-python",
   "name": "python",
   "nbconvert_exporter": "python",
   "pygments_lexer": "ipython3",
   "version": "3.9.12"
  }
 },
 "nbformat": 4,
 "nbformat_minor": 5
}
